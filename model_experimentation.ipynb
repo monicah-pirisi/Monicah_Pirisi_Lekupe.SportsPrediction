{
 "cells": [
  {
   "cell_type": "code",
   "execution_count": 1,
   "id": "61f9877c-31f6-4464-90ac-17207aa421e1",
   "metadata": {},
   "outputs": [],
   "source": [
    "import pandas as pd\n",
    "import numpy as np\n",
    "import matplotlib.pyplot as plt\n",
    "import seaborn as sns\n",
    "import warnings\n",
    "warnings.filterwarnings('ignore')"
   ]
  },
  {
   "cell_type": "code",
   "execution_count": 16,
   "id": "2f937f64-8da0-49e5-8354-06fcc1168a0c",
   "metadata": {},
   "outputs": [],
   "source": [
    "from sklearn.linear_model import LinearRegression, Ridge, Lasso, ElasticNet\n",
    "from sklearn.ensemble import GradientBoostingRegressor, RandomForestRegressor\n",
    "from sklearn.ensemble import StackingRegressor, AdaBoostRegressor, VotingRegressor, BaggingRegressor \n",
    "from sklearn.svm import SVR\n",
    "from sklearn.tree import DecisionTreeRegressor\n",
    "from sklearn.neighbors import KNeighborsRegressor\n",
    "from sklearn.metrics import mean_squared_error, r2_score \n",
    "from sklearn.model_selection import train_test_split\n",
    "from sklearn.preprocessing import MinMaxScaler"
   ]
  },
  {
   "cell_type": "code",
   "execution_count": 10,
   "id": "fb58f4cf-5660-4fce-bc8b-f3ddd86a9e51",
   "metadata": {},
   "outputs": [
    {
     "data": {
      "text/html": [
       "<div>\n",
       "<style scoped>\n",
       "    .dataframe tbody tr th:only-of-type {\n",
       "        vertical-align: middle;\n",
       "    }\n",
       "\n",
       "    .dataframe tbody tr th {\n",
       "        vertical-align: top;\n",
       "    }\n",
       "\n",
       "    .dataframe thead th {\n",
       "        text-align: right;\n",
       "    }\n",
       "</style>\n",
       "<table border=\"1\" class=\"dataframe\">\n",
       "  <thead>\n",
       "    <tr style=\"text-align: right;\">\n",
       "      <th></th>\n",
       "      <th>Unnamed: 0</th>\n",
       "      <th>value_eur</th>\n",
       "      <th>age</th>\n",
       "      <th>potential</th>\n",
       "      <th>wage_eur</th>\n",
       "      <th>movement_reactions</th>\n",
       "      <th>defending</th>\n",
       "      <th>mentality_composure</th>\n",
       "      <th>skill_ball_control</th>\n",
       "    </tr>\n",
       "  </thead>\n",
       "  <tbody>\n",
       "    <tr>\n",
       "      <th>0</th>\n",
       "      <td>0</td>\n",
       "      <td>100500000.0</td>\n",
       "      <td>27</td>\n",
       "      <td>95</td>\n",
       "      <td>550000.0</td>\n",
       "      <td>94</td>\n",
       "      <td>27.0</td>\n",
       "      <td>60.0</td>\n",
       "      <td>96</td>\n",
       "    </tr>\n",
       "    <tr>\n",
       "      <th>1</th>\n",
       "      <td>1</td>\n",
       "      <td>79000000.0</td>\n",
       "      <td>29</td>\n",
       "      <td>92</td>\n",
       "      <td>375000.0</td>\n",
       "      <td>90</td>\n",
       "      <td>32.0</td>\n",
       "      <td>60.0</td>\n",
       "      <td>92</td>\n",
       "    </tr>\n",
       "    <tr>\n",
       "      <th>2</th>\n",
       "      <td>2</td>\n",
       "      <td>54500000.0</td>\n",
       "      <td>30</td>\n",
       "      <td>90</td>\n",
       "      <td>275000.0</td>\n",
       "      <td>89</td>\n",
       "      <td>32.0</td>\n",
       "      <td>60.0</td>\n",
       "      <td>90</td>\n",
       "    </tr>\n",
       "    <tr>\n",
       "      <th>3</th>\n",
       "      <td>3</td>\n",
       "      <td>52500000.0</td>\n",
       "      <td>32</td>\n",
       "      <td>90</td>\n",
       "      <td>275000.0</td>\n",
       "      <td>85</td>\n",
       "      <td>34.0</td>\n",
       "      <td>60.0</td>\n",
       "      <td>90</td>\n",
       "    </tr>\n",
       "    <tr>\n",
       "      <th>4</th>\n",
       "      <td>5</td>\n",
       "      <td>36000000.0</td>\n",
       "      <td>30</td>\n",
       "      <td>89</td>\n",
       "      <td>250000.0</td>\n",
       "      <td>90</td>\n",
       "      <td>59.0</td>\n",
       "      <td>60.0</td>\n",
       "      <td>94</td>\n",
       "    </tr>\n",
       "  </tbody>\n",
       "</table>\n",
       "</div>"
      ],
      "text/plain": [
       "   Unnamed: 0    value_eur  age  potential  wage_eur  movement_reactions  \\\n",
       "0           0  100500000.0   27         95  550000.0                  94   \n",
       "1           1   79000000.0   29         92  375000.0                  90   \n",
       "2           2   54500000.0   30         90  275000.0                  89   \n",
       "3           3   52500000.0   32         90  275000.0                  85   \n",
       "4           5   36000000.0   30         89  250000.0                  90   \n",
       "\n",
       "   defending  mentality_composure  skill_ball_control  \n",
       "0       27.0                 60.0                  96  \n",
       "1       32.0                 60.0                  92  \n",
       "2       32.0                 60.0                  90  \n",
       "3       34.0                 60.0                  90  \n",
       "4       59.0                 60.0                  94  "
      ]
     },
     "execution_count": 10,
     "metadata": {},
     "output_type": "execute_result"
    }
   ],
   "source": [
    "## loading the data\n",
    "X = pd.read_csv('clean_selected_features.csv')\n",
    "y = pd.read_csv('target.csv')\n",
    "X.head()"
   ]
  },
  {
   "cell_type": "code",
   "execution_count": 11,
   "id": "3423ce79-88d9-4aca-9b90-3d4edd26fd9d",
   "metadata": {},
   "outputs": [],
   "source": [
    "X.drop(columns='Unnamed: 0', inplace=True)"
   ]
  },
  {
   "cell_type": "code",
   "execution_count": 12,
   "id": "73dea913-aec2-4ad0-a311-51f08bf6240e",
   "metadata": {},
   "outputs": [
    {
     "data": {
      "text/html": [
       "<div>\n",
       "<style scoped>\n",
       "    .dataframe tbody tr th:only-of-type {\n",
       "        vertical-align: middle;\n",
       "    }\n",
       "\n",
       "    .dataframe tbody tr th {\n",
       "        vertical-align: top;\n",
       "    }\n",
       "\n",
       "    .dataframe thead th {\n",
       "        text-align: right;\n",
       "    }\n",
       "</style>\n",
       "<table border=\"1\" class=\"dataframe\">\n",
       "  <thead>\n",
       "    <tr style=\"text-align: right;\">\n",
       "      <th></th>\n",
       "      <th>Unnamed: 0</th>\n",
       "      <th>overall</th>\n",
       "    </tr>\n",
       "  </thead>\n",
       "  <tbody>\n",
       "    <tr>\n",
       "      <th>0</th>\n",
       "      <td>0</td>\n",
       "      <td>93</td>\n",
       "    </tr>\n",
       "    <tr>\n",
       "      <th>1</th>\n",
       "      <td>1</td>\n",
       "      <td>92</td>\n",
       "    </tr>\n",
       "    <tr>\n",
       "      <th>2</th>\n",
       "      <td>2</td>\n",
       "      <td>90</td>\n",
       "    </tr>\n",
       "    <tr>\n",
       "      <th>3</th>\n",
       "      <td>3</td>\n",
       "      <td>90</td>\n",
       "    </tr>\n",
       "    <tr>\n",
       "      <th>4</th>\n",
       "      <td>5</td>\n",
       "      <td>89</td>\n",
       "    </tr>\n",
       "  </tbody>\n",
       "</table>\n",
       "</div>"
      ],
      "text/plain": [
       "   Unnamed: 0  overall\n",
       "0           0       93\n",
       "1           1       92\n",
       "2           2       90\n",
       "3           3       90\n",
       "4           5       89"
      ]
     },
     "execution_count": 12,
     "metadata": {},
     "output_type": "execute_result"
    }
   ],
   "source": [
    "y.head()"
   ]
  },
  {
   "cell_type": "code",
   "execution_count": 13,
   "id": "8a244359-da45-41e8-85b8-0a9f1e393d2f",
   "metadata": {},
   "outputs": [],
   "source": [
    "y.drop(columns='Unnamed: 0', inplace=True)"
   ]
  },
  {
   "cell_type": "code",
   "execution_count": 15,
   "id": "2c6fbc0a-6286-4ca4-81fc-7be1c6ff5860",
   "metadata": {},
   "outputs": [],
   "source": [
    "## scale the features\n",
    "scaler = MinMaxScaler()\n",
    "\n",
    "X_norm = scaler.fit_transform(X)"
   ]
  },
  {
   "cell_type": "code",
   "execution_count": 17,
   "id": "e4c2ca12-62ca-4fa7-a5fb-72be743ba527",
   "metadata": {},
   "outputs": [],
   "source": [
    "X_train, X_test, y_train, y_test = train_test_split(X_norm, y, test_size=0.2, random_state=42)"
   ]
  },
  {
   "cell_type": "markdown",
   "id": "e5afe41b-87d5-47ac-a257-2d8929bcc8f6",
   "metadata": {},
   "source": [
    "# Models"
   ]
  },
  {
   "cell_type": "markdown",
   "id": "120bef1a-7d95-4ebd-bbf6-a2860de53a2f",
   "metadata": {},
   "source": [
    "## Linear Models"
   ]
  },
  {
   "cell_type": "code",
   "execution_count": 22,
   "id": "6b54ff2e-dd03-47b1-b2b5-80583b0e46f9",
   "metadata": {},
   "outputs": [
    {
     "name": "stdout",
     "output_type": "stream",
     "text": [
      "Mean Squared Error: 4.03083054241611\n",
      "R-squared: 0.9170477863519058\n"
     ]
    }
   ],
   "source": [
    "regressionModel = LinearRegression()\n",
    "\n",
    "regressionModel.fit(X_train, y_train)\n",
    "\n",
    "predicted_ratings = regressionModel.predict(X_test)\n",
    "\n",
    "mse = mean_squared_error(y_test, predicted_ratings)\n",
    "r_squared = r2_score(y_test, predicted_ratings)\n",
    "print(f\"Mean Squared Error: {mse}\")\n",
    "print(\"R-squared:\", r_squared)"
   ]
  },
  {
   "cell_type": "code",
   "execution_count": 25,
   "id": "cf9bad18-7530-4c4b-a47f-86406c36fb7f",
   "metadata": {},
   "outputs": [
    {
     "name": "stdout",
     "output_type": "stream",
     "text": [
      "Ridge Regression\n",
      "Mean Squared Error: 4.0307415587701465\n",
      "R-squared: 0.9170496175850309\n",
      "\n",
      "Lasso Regression\n",
      "Mean Squared Error: 5.47651973912325\n",
      "R-squared: 0.887296320034468\n",
      "\n",
      "ElasticNet Regression\n",
      "Mean Squared Error: 17.893473767338985\n",
      "R-squared: 0.6317624263199191\n"
     ]
    }
   ],
   "source": [
    "ridge_model = Ridge(alpha=1.0)\n",
    "lasso_model = Lasso(alpha=0.1)\n",
    "elasticnet_model = ElasticNet(alpha=0.1, l1_ratio=0.5)\n",
    "\n",
    "# Train Ridge model\n",
    "ridge_model.fit(X_train, y_train)\n",
    "ridge_predictions = ridge_model.predict(X_test)\n",
    "ridge_mse = mean_squared_error(y_test, ridge_predictions)\n",
    "ridge_r_squared = r2_score(y_test, ridge_predictions)\n",
    "print(\"Ridge Regression\")\n",
    "print(f\"Mean Squared Error: {ridge_mse}\")\n",
    "print(f\"R-squared: {ridge_r_squared}\\n\")\n",
    "\n",
    "# Train Lasso model\n",
    "lasso_model.fit(X_train, y_train)\n",
    "lasso_predictions = lasso_model.predict(X_test)\n",
    "lasso_mse = mean_squared_error(y_test, lasso_predictions)\n",
    "lasso_r_squared = r2_score(y_test, lasso_predictions)\n",
    "print(\"Lasso Regression\")\n",
    "print(f\"Mean Squared Error: {lasso_mse}\")\n",
    "print(f\"R-squared: {lasso_r_squared}\\n\")\n",
    "\n",
    "# Train ElasticNet model\n",
    "elasticnet_model.fit(X_train, y_train)\n",
    "elasticnet_predictions = elasticnet_model.predict(X_test)\n",
    "elasticnet_mse = mean_squared_error(y_test, elasticnet_predictions)\n",
    "elasticnet_r_squared = r2_score(y_test, elasticnet_predictions)\n",
    "print(\"ElasticNet Regression\")\n",
    "print(f\"Mean Squared Error: {elasticnet_mse}\")\n",
    "print(f\"R-squared: {elasticnet_r_squared}\")"
   ]
  },
  {
   "cell_type": "markdown",
   "id": "26377229-ecfc-4c52-81c3-2b0bfa9e3b70",
   "metadata": {},
   "source": [
    "# ENSEMBLE MODEL"
   ]
  },
  {
   "cell_type": "code",
   "execution_count": 23,
   "id": "a35eb421-50d7-437f-a92c-dd08c4509639",
   "metadata": {},
   "outputs": [
    {
     "name": "stdout",
     "output_type": "stream",
     "text": [
      "Mean Squared Error: 0.5922635575138598\n",
      "R-squared: 0.9878115508350244\n"
     ]
    }
   ],
   "source": [
    "RFmodel = RandomForestRegressor(n_estimators=100, random_state=42,)\n",
    "\n",
    "RFmodel.fit(X_train, y_train)\n",
    "\n",
    "\n",
    "predicted_ratings = RFmodel.predict(X_test)\n",
    "\n",
    "mse = mean_squared_error(y_test, predicted_ratings)\n",
    "r_squared = r2_score(y_test, predicted_ratings)\n",
    "print(f\"Mean Squared Error: {mse}\")\n",
    "print(\"R-squared:\", r_squared)"
   ]
  },
  {
   "cell_type": "code",
   "execution_count": 24,
   "id": "0d0a5bd6-dca5-4f55-b9b1-697c719e3178",
   "metadata": {},
   "outputs": [
    {
     "name": "stdout",
     "output_type": "stream",
     "text": [
      "Mean Squared Error: 1.1844677349213315\n",
      "R-squared: 0.9756243236790664\n"
     ]
    }
   ],
   "source": [
    "GBmodel = GradientBoostingRegressor(n_estimators=100, random_state=42)\n",
    "GBmodel.fit(X_train, y_train)\n",
    "\n",
    "predicted_ratings = GBmodel.predict(X_test)\n",
    "\n",
    "mse = mean_squared_error(y_test, predicted_ratings)\n",
    "r_squared = r2_score(y_test, predicted_ratings)\n",
    "print(f\"Mean Squared Error: {mse}\")\n",
    "print(\"R-squared:\", r_squared)"
   ]
  },
  {
   "cell_type": "code",
   "execution_count": 26,
   "id": "2c9ff8a2-e403-4e96-b25a-30ae24fbeb1e",
   "metadata": {},
   "outputs": [
    {
     "name": "stdout",
     "output_type": "stream",
     "text": [
      "Mean Squared Error: 1.1844677349213315\n",
      "R-squared: 0.9756243236790664\n"
     ]
    }
   ],
   "source": [
    "adaboost_model = AdaBoostRegressor(n_estimators=100, random_state=42)\n",
    "\n",
    "\n",
    "adaboost_model.fit(X_train, y_train)\n",
    "\n",
    "\n",
    "adaboost_predictions = adaboost_model.predict(X_test)\n",
    "\n",
    "\n",
    "mse = mean_squared_error(y_test, adaboost_predictions)\n",
    "r_squared = r2_score(y_test, adaboost_predictions)\n",
    "\n",
    "mse = mean_squared_error(y_test, predicted_ratings)\n",
    "r_squared = r2_score(y_test, predicted_ratings)\n",
    "print(f\"Mean Squared Error: {mse}\")\n",
    "print(\"R-squared:\", r_squared)"
   ]
  },
  {
   "cell_type": "code",
   "execution_count": 28,
   "id": "47827179-6377-469c-a0f7-a2b01513533a",
   "metadata": {},
   "outputs": [
    {
     "name": "stdout",
     "output_type": "stream",
     "text": [
      "Mean Squared Error: 1.1844677349213315\n",
      "R-squared: 0.9756243236790664\n"
     ]
    }
   ],
   "source": [
    "\n",
    "svr_model = SVR(kernel='rbf', C=1.0, epsilon=0.1)\n",
    "\n",
    "svr_model.fit(X_train, y_train)\n",
    "\n",
    "\n",
    "svr_predictions = svr_model.predict(X_test)\n",
    "\n",
    "\n",
    "mse = mean_squared_error(y_test, svr_predictions)\n",
    "r_squared = r2_score(y_test, svr_predictions)\n",
    "\n",
    "\n",
    "mse = mean_squared_error(y_test, predicted_ratings)\n",
    "r_squared = r2_score(y_test, predicted_ratings)\n",
    "print(f\"Mean Squared Error: {mse}\")\n",
    "print(\"R-squared:\", r_squared)"
   ]
  },
  {
   "cell_type": "code",
   "execution_count": 29,
   "id": "0c577bfc-59ce-466b-b481-c08dfa4997d6",
   "metadata": {},
   "outputs": [],
   "source": [
    "import pickle"
   ]
  },
  {
   "cell_type": "code",
   "execution_count": 30,
   "id": "03d99a97-3dbf-4cb8-8380-b629f95a416a",
   "metadata": {},
   "outputs": [],
   "source": [
    "with open('random_forest_model.pkl', 'wb') as model_file:\n",
    "    pickle.dump(RFmodel, model_file)"
   ]
  },
  {
   "cell_type": "code",
   "execution_count": 31,
   "id": "5039734e-7682-43e5-9ab9-76c7cd876055",
   "metadata": {},
   "outputs": [],
   "source": [
    "# Save the fitted MinMaxScaler to a file using pickle\n",
    "with open('minmax_scaler.pkl', 'wb') as scaler_file:\n",
    "    pickle.dump(scaler, scaler_file)"
   ]
  },
  {
   "cell_type": "code",
   "execution_count": null,
   "id": "24abd331-e727-4ada-bca8-896ff69d6171",
   "metadata": {},
   "outputs": [],
   "source": []
  }
 ],
 "metadata": {
  "kernelspec": {
   "display_name": "Python 3 (ipykernel)",
   "language": "python",
   "name": "python3"
  },
  "language_info": {
   "codemirror_mode": {
    "name": "ipython",
    "version": 3
   },
   "file_extension": ".py",
   "mimetype": "text/x-python",
   "name": "python",
   "nbconvert_exporter": "python",
   "pygments_lexer": "ipython3",
   "version": "3.11.9"
  }
 },
 "nbformat": 4,
 "nbformat_minor": 5
}
